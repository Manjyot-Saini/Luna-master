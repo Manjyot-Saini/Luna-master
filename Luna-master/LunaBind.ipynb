{
 "cells": [
  {
   "cell_type": "code",
   "execution_count": 7,
   "metadata": {},
   "outputs": [
    {
     "ename": "ValueError",
     "evalue": "XML Error: Schema violation: unrecognized element\n\nElement 'sensor', line 43\n",
     "output_type": "error",
     "traceback": [
      "\u001b[0;31m---------------------------------------------------------------------------\u001b[0m",
      "\u001b[0;31mValueError\u001b[0m                                Traceback (most recent call last)",
      "Cell \u001b[0;32mIn[7], line 2\u001b[0m\n\u001b[1;32m      1\u001b[0m \u001b[38;5;28;01mimport\u001b[39;00m \u001b[38;5;21;01mmujoco\u001b[39;00m\n\u001b[0;32m----> 2\u001b[0m model \u001b[38;5;241m=\u001b[39m \u001b[43mmujoco\u001b[49m\u001b[38;5;241;43m.\u001b[39;49m\u001b[43mMjModel\u001b[49m\u001b[38;5;241;43m.\u001b[39;49m\u001b[43mfrom_xml_path\u001b[49m\u001b[43m(\u001b[49m\u001b[38;5;124;43m\"\u001b[39;49m\u001b[38;5;124;43mcar210.xml\u001b[39;49m\u001b[38;5;124;43m\"\u001b[39;49m\u001b[43m)\u001b[49m\n",
      "\u001b[0;31mValueError\u001b[0m: XML Error: Schema violation: unrecognized element\n\nElement 'sensor', line 43\n"
     ]
    }
   ],
   "source": [
    "import mujoco\n",
    "model = mujoco.MjModel.from_xml_path(\"car210.xml\")"
   ]
  },
  {
   "cell_type": "code",
   "execution_count": 6,
   "metadata": {},
   "outputs": [
    {
     "data": {
      "text/plain": [
       "<_MjModelBodyViews\n",
       "  dofadr: array([0], dtype=int32)\n",
       "  dofnum: array([6], dtype=int32)\n",
       "  geomadr: array([5], dtype=int32)\n",
       "  geomnum: array([2], dtype=int32)\n",
       "  id: 1\n",
       "  inertia: array([0.00142936, 0.00118008, 0.00033009])\n",
       "  invweight0: array([  1.75653086, 835.61445549])\n",
       "  ipos: array([-2.24659118e-02,  1.17924197e-10,  3.17934892e-04])\n",
       "  iquat: array([0.        , 0.73677233, 0.        , 0.67614091])\n",
       "  jntadr: array([0], dtype=int32)\n",
       "  jntnum: array([1], dtype=int32)\n",
       "  mass: array([0.46763103])\n",
       "  mocapid: array([-1], dtype=int32)\n",
       "  name: 'car'\n",
       "  parentid: array([0], dtype=int32)\n",
       "  pos: array([0.  , 0.  , 0.03])\n",
       "  quat: array([0.70710678, 0.        , 0.        , 0.70710678])\n",
       "  rootid: array([1], dtype=int32)\n",
       "  sameframe: array([0], dtype=uint8)\n",
       "  simple: array([0], dtype=uint8)\n",
       "  subtreemass: array([0.58072836])\n",
       "  user: array([], dtype=float64)\n",
       "  weldid: array([1], dtype=int32)\n",
       ">"
      ]
     },
     "execution_count": 6,
     "metadata": {},
     "output_type": "execute_result"
    }
   ],
   "source": [
    "model.body('car')"
   ]
  },
  {
   "cell_type": "code",
   "execution_count": null,
   "metadata": {},
   "outputs": [],
   "source": []
  }
 ],
 "metadata": {
  "kernelspec": {
   "display_name": "Python 3",
   "language": "python",
   "name": "python3"
  },
  "language_info": {
   "codemirror_mode": {
    "name": "ipython",
    "version": 3
   },
   "file_extension": ".py",
   "mimetype": "text/x-python",
   "name": "python",
   "nbconvert_exporter": "python",
   "pygments_lexer": "ipython3",
   "version": "3.8.10"
  }
 },
 "nbformat": 4,
 "nbformat_minor": 2
}
